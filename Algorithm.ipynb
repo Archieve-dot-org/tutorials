{
 "cells": [
  {
   "cell_type": "code",
   "execution_count": 1,
   "metadata": {},
   "outputs": [
    {
     "name": "stdout",
     "output_type": "stream",
     "text": [
      "54877108839480000051413673948383714443800519309123592724494953427039811201064341234954387521525390615504949092187441218246679104731442473022013980160407007017175697317900483275246652938800\n",
      "--- 0.000999927520752 seconds ---\n"
     ]
    }
   ],
   "source": [
    "def fibonacci_memo(n,memo):\n",
    "\tif memo[n] is not None:\n",
    "\t\treturn memo[n]\n",
    "\tif n == 1 or n == 2:\n",
    "\t\treturn 1\n",
    "\telse:\n",
    "\t\tresult = fibonacci_memo(n-1,memo)+fibonacci_memo(n-2,memo)\n",
    "\t\tmemo[n] = result\n",
    "\t\treturn result\n",
    "\n",
    "def fibonacci_n(n):\n",
    "    if n == 0: return 0\n",
    "    elif n == 1: return 1\n",
    "    else: return fibonacci_n(n-1)+fibonacci_n(n-2)\n",
    "\n",
    "def fibonacci_bu(n):\n",
    "\tf = [None]*(n+1)\n",
    "\tf[1] = 1\n",
    "\tf[2] = 1\n",
    "\tfor i in range(3,n+1):\n",
    "\t\tf[i] = f[i-1] + f[i-2]\n",
    "\treturn f[n]\n",
    "\n",
    "def fibonacci_m(n):\n",
    "\tmemo = [None]*(n+1)\n",
    "\treturn fibonacci_memo(n,memo)\n",
    "\n",
    "def time_E(func):\n",
    "\timport time\n",
    "\tstart_time = time.time()\n",
    "\tprint(eval(func))\n",
    "\tprint(\"--- %s seconds ---\" % (time.time() - start_time))\n",
    "\treturn\n",
    "#print(fibonacci_n(100))\n",
    "time_E(\"fibonacci_bu(900)\")\n",
    "#print(fibonacci_m(100000))"
   ]
  },
  {
   "cell_type": "code",
   "execution_count": 2,
   "metadata": {},
   "outputs": [
    {
     "name": "stdout",
     "output_type": "stream",
     "text": [
      "ALgorithm Speed comparison - in Dynamic Programming\n"
     ]
    }
   ],
   "source": [
    "print(\"ALgorithm Speed comparison - in Dynamic Programming\")"
   ]
  },
  {
   "cell_type": "code",
   "execution_count": 8,
   "metadata": {},
   "outputs": [
    {
     "name": "stdout",
     "output_type": "stream",
     "text": [
      "102334155\n",
      "--- 84.9490001202 seconds ---\n"
     ]
    }
   ],
   "source": [
    "time_E(\"fibonacci_n(40)\")"
   ]
  },
  {
   "cell_type": "code",
   "execution_count": 4,
   "metadata": {},
   "outputs": [
    {
     "name": "stdout",
     "output_type": "stream",
     "text": [
      "102334155\n",
      "--- 0.0140001773834 seconds ---\n"
     ]
    }
   ],
   "source": [
    "time_E(\"fibonacci_m(40)\")"
   ]
  },
  {
   "cell_type": "code",
   "execution_count": 5,
   "metadata": {},
   "outputs": [
    {
     "name": "stdout",
     "output_type": "stream",
     "text": [
      "102334155\n",
      "--- 0.0 seconds ---\n"
     ]
    }
   ],
   "source": [
    "time_E(\"fibonacci_bu(40)\")"
   ]
  },
  {
   "cell_type": "code",
   "execution_count": 6,
   "metadata": {},
   "outputs": [
    {
     "name": "stdout",
     "output_type": "stream",
     "text": [
      "Dynamic programming wins , Bingo!!!\n"
     ]
    }
   ],
   "source": [
    "print(\"Dynamic programming wins , Bingo!!!\")"
   ]
  },
  {
   "cell_type": "code",
   "execution_count": 9,
   "metadata": {},
   "outputs": [
    {
     "name": "stdout",
     "output_type": "stream",
     "text": [
      "Recursion vs Memoization vs Bottomup algorithm -> Bottom up method wins\n"
     ]
    }
   ],
   "source": [
    "print(\"Recursion vs Memoization vs Bottomup algorithm -> Bottom up method wins\")"
   ]
  },
  {
   "cell_type": "code",
   "execution_count": null,
   "metadata": {},
   "outputs": [],
   "source": []
  }
 ],
 "metadata": {
  "kernelspec": {
   "display_name": "Python 2",
   "language": "python",
   "name": "python2"
  },
  "language_info": {
   "codemirror_mode": {
    "name": "ipython",
    "version": 2
   },
   "file_extension": ".py",
   "mimetype": "text/x-python",
   "name": "python",
   "nbconvert_exporter": "python",
   "pygments_lexer": "ipython2",
   "version": "2.7.14"
  }
 },
 "nbformat": 4,
 "nbformat_minor": 2
}
